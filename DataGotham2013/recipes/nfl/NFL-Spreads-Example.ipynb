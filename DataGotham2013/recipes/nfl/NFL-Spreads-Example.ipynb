{
 "metadata": {
  "name": ""
 },
 "nbformat": 3,
 "nbformat_minor": 0,
 "worksheets": [
  {
   "cells": [
    {
     "cell_type": "code",
     "collapsed": false,
     "input": [
      "import pandas as pd"
     ],
     "language": "python",
     "metadata": {},
     "outputs": [],
     "prompt_number": 1
    },
    {
     "cell_type": "code",
     "collapsed": false,
     "input": [
      "data = pd.read_csv(\"./data/nfl_spreads_1985-2010.csv\")"
     ],
     "language": "python",
     "metadata": {},
     "outputs": [],
     "prompt_number": 2
    },
    {
     "cell_type": "code",
     "collapsed": false,
     "input": [
      "data.head()"
     ],
     "language": "python",
     "metadata": {},
     "outputs": [
      {
       "html": [
        "<div style=\"max-height:1000px;max-width:1500px;overflow:auto;\">\n",
        "<table border=\"1\" class=\"dataframe\">\n",
        "  <thead>\n",
        "    <tr style=\"text-align: right;\">\n",
        "      <th></th>\n",
        "      <th>team</th>\n",
        "      <th>date</th>\n",
        "      <th>spread</th>\n",
        "      <th>team_score</th>\n",
        "      <th>opponent</th>\n",
        "      <th>opp_score</th>\n",
        "      <th>was_home</th>\n",
        "    </tr>\n",
        "  </thead>\n",
        "  <tbody>\n",
        "    <tr>\n",
        "      <th>0</th>\n",
        "      <td> Buffalo</td>\n",
        "      <td> 1985-12-22</td>\n",
        "      <td> 17.5</td>\n",
        "      <td>  0</td>\n",
        "      <td>      Miami</td>\n",
        "      <td> 28</td>\n",
        "      <td> True</td>\n",
        "    </tr>\n",
        "    <tr>\n",
        "      <th>1</th>\n",
        "      <td> Buffalo</td>\n",
        "      <td> 1985-12-15</td>\n",
        "      <td> 10.5</td>\n",
        "      <td> 24</td>\n",
        "      <td> Pittsburgh</td>\n",
        "      <td> 30</td>\n",
        "      <td> True</td>\n",
        "    </tr>\n",
        "    <tr>\n",
        "      <th>2</th>\n",
        "      <td> Buffalo</td>\n",
        "      <td> 1985-12-08</td>\n",
        "      <td>  9.0</td>\n",
        "      <td>  7</td>\n",
        "      <td>  N.Y. Jets</td>\n",
        "      <td> 27</td>\n",
        "      <td> True</td>\n",
        "    </tr>\n",
        "    <tr>\n",
        "      <th>3</th>\n",
        "      <td> Buffalo</td>\n",
        "      <td> 1985-12-01</td>\n",
        "      <td> 10.0</td>\n",
        "      <td>  7</td>\n",
        "      <td>  San Diego</td>\n",
        "      <td> 40</td>\n",
        "      <td> True</td>\n",
        "    </tr>\n",
        "    <tr>\n",
        "      <th>4</th>\n",
        "      <td> Buffalo</td>\n",
        "      <td> 1985-11-24</td>\n",
        "      <td>  8.5</td>\n",
        "      <td> 14</td>\n",
        "      <td>      Miami</td>\n",
        "      <td> 23</td>\n",
        "      <td> True</td>\n",
        "    </tr>\n",
        "  </tbody>\n",
        "</table>\n",
        "</div>"
       ],
       "metadata": {},
       "output_type": "pyout",
       "prompt_number": 3,
       "text": [
        "      team        date  spread  team_score    opponent  opp_score was_home\n",
        "0  Buffalo  1985-12-22    17.5           0       Miami         28     True\n",
        "1  Buffalo  1985-12-15    10.5          24  Pittsburgh         30     True\n",
        "2  Buffalo  1985-12-08     9.0           7   N.Y. Jets         27     True\n",
        "3  Buffalo  1985-12-01    10.0           7   San Diego         40     True\n",
        "4  Buffalo  1985-11-24     8.5          14       Miami         23     True"
       ]
      }
     ],
     "prompt_number": 3
    },
    {
     "cell_type": "code",
     "collapsed": false,
     "input": [
      "data['actual_spread'] = data.team_score - data.opp_score"
     ],
     "language": "python",
     "metadata": {},
     "outputs": [],
     "prompt_number": 4
    },
    {
     "cell_type": "code",
     "collapsed": false,
     "input": [
      "data.head()"
     ],
     "language": "python",
     "metadata": {},
     "outputs": [
      {
       "html": [
        "<div style=\"max-height:1000px;max-width:1500px;overflow:auto;\">\n",
        "<table border=\"1\" class=\"dataframe\">\n",
        "  <thead>\n",
        "    <tr style=\"text-align: right;\">\n",
        "      <th></th>\n",
        "      <th>team</th>\n",
        "      <th>date</th>\n",
        "      <th>spread</th>\n",
        "      <th>team_score</th>\n",
        "      <th>opponent</th>\n",
        "      <th>opp_score</th>\n",
        "      <th>was_home</th>\n",
        "      <th>actual_spread</th>\n",
        "    </tr>\n",
        "  </thead>\n",
        "  <tbody>\n",
        "    <tr>\n",
        "      <th>0</th>\n",
        "      <td> Buffalo</td>\n",
        "      <td> 1985-12-22</td>\n",
        "      <td> 17.5</td>\n",
        "      <td>  0</td>\n",
        "      <td>      Miami</td>\n",
        "      <td> 28</td>\n",
        "      <td> True</td>\n",
        "      <td>-28</td>\n",
        "    </tr>\n",
        "    <tr>\n",
        "      <th>1</th>\n",
        "      <td> Buffalo</td>\n",
        "      <td> 1985-12-15</td>\n",
        "      <td> 10.5</td>\n",
        "      <td> 24</td>\n",
        "      <td> Pittsburgh</td>\n",
        "      <td> 30</td>\n",
        "      <td> True</td>\n",
        "      <td> -6</td>\n",
        "    </tr>\n",
        "    <tr>\n",
        "      <th>2</th>\n",
        "      <td> Buffalo</td>\n",
        "      <td> 1985-12-08</td>\n",
        "      <td>  9.0</td>\n",
        "      <td>  7</td>\n",
        "      <td>  N.Y. Jets</td>\n",
        "      <td> 27</td>\n",
        "      <td> True</td>\n",
        "      <td>-20</td>\n",
        "    </tr>\n",
        "    <tr>\n",
        "      <th>3</th>\n",
        "      <td> Buffalo</td>\n",
        "      <td> 1985-12-01</td>\n",
        "      <td> 10.0</td>\n",
        "      <td>  7</td>\n",
        "      <td>  San Diego</td>\n",
        "      <td> 40</td>\n",
        "      <td> True</td>\n",
        "      <td>-33</td>\n",
        "    </tr>\n",
        "    <tr>\n",
        "      <th>4</th>\n",
        "      <td> Buffalo</td>\n",
        "      <td> 1985-11-24</td>\n",
        "      <td>  8.5</td>\n",
        "      <td> 14</td>\n",
        "      <td>      Miami</td>\n",
        "      <td> 23</td>\n",
        "      <td> True</td>\n",
        "      <td> -9</td>\n",
        "    </tr>\n",
        "  </tbody>\n",
        "</table>\n",
        "</div>"
       ],
       "metadata": {},
       "output_type": "pyout",
       "prompt_number": 5,
       "text": [
        "      team        date  spread  team_score    opponent  opp_score was_home  \\\n",
        "0  Buffalo  1985-12-22    17.5           0       Miami         28     True   \n",
        "1  Buffalo  1985-12-15    10.5          24  Pittsburgh         30     True   \n",
        "2  Buffalo  1985-12-08     9.0           7   N.Y. Jets         27     True   \n",
        "3  Buffalo  1985-12-01    10.0           7   San Diego         40     True   \n",
        "4  Buffalo  1985-11-24     8.5          14       Miami         23     True   \n",
        "\n",
        "   actual_spread  \n",
        "0            -28  \n",
        "1             -6  \n",
        "2            -20  \n",
        "3            -33  \n",
        "4             -9  "
       ]
      }
     ],
     "prompt_number": 5
    },
    {
     "cell_type": "code",
     "collapsed": false,
     "input": [
      "data.actual_spread.hist()"
     ],
     "language": "python",
     "metadata": {},
     "outputs": [
      {
       "metadata": {},
       "output_type": "pyout",
       "prompt_number": 6,
       "text": [
        "<matplotlib.axes.AxesSubplot at 0x1068edbd0>"
       ]
      },
      {
       "metadata": {},
       "output_type": "display_data",
       "png": "[encoded data removed]",
       "text": [
        "<matplotlib.figure.Figure at 0x1068ed1d0>"
       ]
      }
     ],
     "prompt_number": 6
    },
    {
     "cell_type": "code",
     "collapsed": false,
     "input": [],
     "language": "python",
     "metadata": {},
     "outputs": []
    }
   ],
   "metadata": {}
  }
 ]
}